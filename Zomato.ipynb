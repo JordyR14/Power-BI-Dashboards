{
 "cells": [
  {
   "cell_type": "code",
   "execution_count": 50,
   "id": "ce2c4efc-24ab-44d7-8397-a6567b6a1ed6",
   "metadata": {},
   "outputs": [],
   "source": [
    "#data cleaning process in python for dataset zomato.csv\n",
    "#import libraries to use\n",
    "import pandas as pd\n",
    "import matplotlib.pyplot as plt\n",
    "import numpy as np\n",
    "import seaborn as sns\n",
    "from sklearn.impute import SimpleImputer"
   ]
  },
  {
   "cell_type": "code",
   "execution_count": 51,
   "id": "21c8a43a-2371-406a-ab3d-594f90bd14b9",
   "metadata": {},
   "outputs": [],
   "source": [
    "#read the csv file to clean\n",
    "zomato_data = pd.read_csv('Zomato Dataset.csv')"
   ]
  },
  {
   "cell_type": "code",
   "execution_count": 52,
   "id": "187db2d8-10b5-4adc-9eba-690d08e53b5e",
   "metadata": {},
   "outputs": [
    {
     "data": {
      "text/html": [
       "<div>\n",
       "<style scoped>\n",
       "    .dataframe tbody tr th:only-of-type {\n",
       "        vertical-align: middle;\n",
       "    }\n",
       "\n",
       "    .dataframe tbody tr th {\n",
       "        vertical-align: top;\n",
       "    }\n",
       "\n",
       "    .dataframe thead th {\n",
       "        text-align: right;\n",
       "    }\n",
       "</style>\n",
       "<table border=\"1\" class=\"dataframe\">\n",
       "  <thead>\n",
       "    <tr style=\"text-align: right;\">\n",
       "      <th></th>\n",
       "      <th>ID</th>\n",
       "      <th>Delivery_person_ID</th>\n",
       "      <th>Delivery_person_Age</th>\n",
       "      <th>Delivery_person_Ratings</th>\n",
       "      <th>Restaurant_latitude</th>\n",
       "      <th>Restaurant_longitude</th>\n",
       "      <th>Delivery_location_latitude</th>\n",
       "      <th>Delivery_location_longitude</th>\n",
       "      <th>Order_Date</th>\n",
       "      <th>Time_Orderd</th>\n",
       "      <th>Time_Order_picked</th>\n",
       "      <th>Weather_conditions</th>\n",
       "      <th>Road_traffic_density</th>\n",
       "      <th>Vehicle_condition</th>\n",
       "      <th>Type_of_order</th>\n",
       "      <th>Type_of_vehicle</th>\n",
       "      <th>multiple_deliveries</th>\n",
       "      <th>Festival</th>\n",
       "      <th>City</th>\n",
       "      <th>Time_taken (min)</th>\n",
       "    </tr>\n",
       "  </thead>\n",
       "  <tbody>\n",
       "    <tr>\n",
       "      <th>0</th>\n",
       "      <td>0xcdcd</td>\n",
       "      <td>DEHRES17DEL01</td>\n",
       "      <td>36.0</td>\n",
       "      <td>4.2</td>\n",
       "      <td>30.327968</td>\n",
       "      <td>78.046106</td>\n",
       "      <td>30.397968</td>\n",
       "      <td>78.116106</td>\n",
       "      <td>12-02-2022</td>\n",
       "      <td>21:55</td>\n",
       "      <td>22:10</td>\n",
       "      <td>Fog</td>\n",
       "      <td>Jam</td>\n",
       "      <td>2</td>\n",
       "      <td>Snack</td>\n",
       "      <td>motorcycle</td>\n",
       "      <td>3.0</td>\n",
       "      <td>No</td>\n",
       "      <td>Metropolitian</td>\n",
       "      <td>46</td>\n",
       "    </tr>\n",
       "    <tr>\n",
       "      <th>1</th>\n",
       "      <td>0xd987</td>\n",
       "      <td>KOCRES16DEL01</td>\n",
       "      <td>21.0</td>\n",
       "      <td>4.7</td>\n",
       "      <td>10.003064</td>\n",
       "      <td>76.307589</td>\n",
       "      <td>10.043064</td>\n",
       "      <td>76.347589</td>\n",
       "      <td>13-02-2022</td>\n",
       "      <td>14:55</td>\n",
       "      <td>15:05</td>\n",
       "      <td>Stormy</td>\n",
       "      <td>High</td>\n",
       "      <td>1</td>\n",
       "      <td>Meal</td>\n",
       "      <td>motorcycle</td>\n",
       "      <td>1.0</td>\n",
       "      <td>No</td>\n",
       "      <td>Metropolitian</td>\n",
       "      <td>23</td>\n",
       "    </tr>\n",
       "    <tr>\n",
       "      <th>2</th>\n",
       "      <td>0x2784</td>\n",
       "      <td>PUNERES13DEL03</td>\n",
       "      <td>23.0</td>\n",
       "      <td>4.7</td>\n",
       "      <td>18.562450</td>\n",
       "      <td>73.916619</td>\n",
       "      <td>18.652450</td>\n",
       "      <td>74.006619</td>\n",
       "      <td>04-03-2022</td>\n",
       "      <td>17:30</td>\n",
       "      <td>17:40</td>\n",
       "      <td>Sandstorms</td>\n",
       "      <td>Medium</td>\n",
       "      <td>1</td>\n",
       "      <td>Drinks</td>\n",
       "      <td>scooter</td>\n",
       "      <td>1.0</td>\n",
       "      <td>No</td>\n",
       "      <td>Metropolitian</td>\n",
       "      <td>21</td>\n",
       "    </tr>\n",
       "    <tr>\n",
       "      <th>3</th>\n",
       "      <td>0xc8b6</td>\n",
       "      <td>LUDHRES15DEL02</td>\n",
       "      <td>34.0</td>\n",
       "      <td>4.3</td>\n",
       "      <td>30.899584</td>\n",
       "      <td>75.809346</td>\n",
       "      <td>30.919584</td>\n",
       "      <td>75.829346</td>\n",
       "      <td>13-02-2022</td>\n",
       "      <td>09:20</td>\n",
       "      <td>09:30</td>\n",
       "      <td>Sandstorms</td>\n",
       "      <td>Low</td>\n",
       "      <td>0</td>\n",
       "      <td>Buffet</td>\n",
       "      <td>motorcycle</td>\n",
       "      <td>0.0</td>\n",
       "      <td>No</td>\n",
       "      <td>Metropolitian</td>\n",
       "      <td>20</td>\n",
       "    </tr>\n",
       "    <tr>\n",
       "      <th>4</th>\n",
       "      <td>0xdb64</td>\n",
       "      <td>KNPRES14DEL02</td>\n",
       "      <td>24.0</td>\n",
       "      <td>4.7</td>\n",
       "      <td>26.463504</td>\n",
       "      <td>80.372929</td>\n",
       "      <td>26.593504</td>\n",
       "      <td>80.502929</td>\n",
       "      <td>14-02-2022</td>\n",
       "      <td>19:50</td>\n",
       "      <td>20:05</td>\n",
       "      <td>Fog</td>\n",
       "      <td>Jam</td>\n",
       "      <td>1</td>\n",
       "      <td>Snack</td>\n",
       "      <td>scooter</td>\n",
       "      <td>1.0</td>\n",
       "      <td>No</td>\n",
       "      <td>Metropolitian</td>\n",
       "      <td>41</td>\n",
       "    </tr>\n",
       "  </tbody>\n",
       "</table>\n",
       "</div>"
      ],
      "text/plain": [
       "       ID Delivery_person_ID  Delivery_person_Age  Delivery_person_Ratings  \\\n",
       "0  0xcdcd      DEHRES17DEL01                 36.0                      4.2   \n",
       "1  0xd987      KOCRES16DEL01                 21.0                      4.7   \n",
       "2  0x2784     PUNERES13DEL03                 23.0                      4.7   \n",
       "3  0xc8b6     LUDHRES15DEL02                 34.0                      4.3   \n",
       "4  0xdb64      KNPRES14DEL02                 24.0                      4.7   \n",
       "\n",
       "   Restaurant_latitude  Restaurant_longitude  Delivery_location_latitude  \\\n",
       "0            30.327968             78.046106                   30.397968   \n",
       "1            10.003064             76.307589                   10.043064   \n",
       "2            18.562450             73.916619                   18.652450   \n",
       "3            30.899584             75.809346                   30.919584   \n",
       "4            26.463504             80.372929                   26.593504   \n",
       "\n",
       "   Delivery_location_longitude  Order_Date Time_Orderd Time_Order_picked  \\\n",
       "0                    78.116106  12-02-2022       21:55             22:10   \n",
       "1                    76.347589  13-02-2022       14:55             15:05   \n",
       "2                    74.006619  04-03-2022       17:30             17:40   \n",
       "3                    75.829346  13-02-2022       09:20             09:30   \n",
       "4                    80.502929  14-02-2022       19:50             20:05   \n",
       "\n",
       "  Weather_conditions Road_traffic_density  Vehicle_condition Type_of_order  \\\n",
       "0                Fog                  Jam                  2         Snack   \n",
       "1             Stormy                 High                  1          Meal   \n",
       "2         Sandstorms               Medium                  1        Drinks   \n",
       "3         Sandstorms                  Low                  0        Buffet   \n",
       "4                Fog                  Jam                  1         Snack   \n",
       "\n",
       "  Type_of_vehicle  multiple_deliveries Festival           City  \\\n",
       "0      motorcycle                  3.0       No  Metropolitian   \n",
       "1      motorcycle                  1.0       No  Metropolitian   \n",
       "2         scooter                  1.0       No  Metropolitian   \n",
       "3      motorcycle                  0.0       No  Metropolitian   \n",
       "4         scooter                  1.0       No  Metropolitian   \n",
       "\n",
       "   Time_taken (min)  \n",
       "0                46  \n",
       "1                23  \n",
       "2                21  \n",
       "3                20  \n",
       "4                41  "
      ]
     },
     "execution_count": 52,
     "metadata": {},
     "output_type": "execute_result"
    }
   ],
   "source": [
    "#DATA EXPLORATION\n",
    "#printing the first 5 rows\n",
    "zomato_data.head()"
   ]
  },
  {
   "cell_type": "code",
   "execution_count": 53,
   "id": "c86e0d2a-faf7-4f6b-b767-ca2301af01da",
   "metadata": {},
   "outputs": [
    {
     "data": {
      "text/html": [
       "<div>\n",
       "<style scoped>\n",
       "    .dataframe tbody tr th:only-of-type {\n",
       "        vertical-align: middle;\n",
       "    }\n",
       "\n",
       "    .dataframe tbody tr th {\n",
       "        vertical-align: top;\n",
       "    }\n",
       "\n",
       "    .dataframe thead th {\n",
       "        text-align: right;\n",
       "    }\n",
       "</style>\n",
       "<table border=\"1\" class=\"dataframe\">\n",
       "  <thead>\n",
       "    <tr style=\"text-align: right;\">\n",
       "      <th></th>\n",
       "      <th>Delivery_person_Age</th>\n",
       "      <th>Delivery_person_Ratings</th>\n",
       "      <th>Restaurant_latitude</th>\n",
       "      <th>Restaurant_longitude</th>\n",
       "      <th>Delivery_location_latitude</th>\n",
       "      <th>Delivery_location_longitude</th>\n",
       "      <th>Vehicle_condition</th>\n",
       "      <th>multiple_deliveries</th>\n",
       "      <th>Time_taken (min)</th>\n",
       "    </tr>\n",
       "  </thead>\n",
       "  <tbody>\n",
       "    <tr>\n",
       "      <th>count</th>\n",
       "      <td>43730.000000</td>\n",
       "      <td>43676.000000</td>\n",
       "      <td>45584.000000</td>\n",
       "      <td>45584.000000</td>\n",
       "      <td>45584.000000</td>\n",
       "      <td>45584.000000</td>\n",
       "      <td>45584.000000</td>\n",
       "      <td>44591.000000</td>\n",
       "      <td>45584.000000</td>\n",
       "    </tr>\n",
       "    <tr>\n",
       "      <th>mean</th>\n",
       "      <td>29.566911</td>\n",
       "      <td>4.633774</td>\n",
       "      <td>17.017948</td>\n",
       "      <td>70.229684</td>\n",
       "      <td>17.465480</td>\n",
       "      <td>70.844161</td>\n",
       "      <td>1.023385</td>\n",
       "      <td>0.744635</td>\n",
       "      <td>26.293963</td>\n",
       "    </tr>\n",
       "    <tr>\n",
       "      <th>std</th>\n",
       "      <td>5.815064</td>\n",
       "      <td>0.334744</td>\n",
       "      <td>8.185674</td>\n",
       "      <td>22.885575</td>\n",
       "      <td>7.335562</td>\n",
       "      <td>21.120578</td>\n",
       "      <td>0.839055</td>\n",
       "      <td>0.572510</td>\n",
       "      <td>9.384298</td>\n",
       "    </tr>\n",
       "    <tr>\n",
       "      <th>min</th>\n",
       "      <td>15.000000</td>\n",
       "      <td>1.000000</td>\n",
       "      <td>-30.905562</td>\n",
       "      <td>-88.366217</td>\n",
       "      <td>0.010000</td>\n",
       "      <td>0.010000</td>\n",
       "      <td>0.000000</td>\n",
       "      <td>0.000000</td>\n",
       "      <td>10.000000</td>\n",
       "    </tr>\n",
       "    <tr>\n",
       "      <th>25%</th>\n",
       "      <td>25.000000</td>\n",
       "      <td>4.500000</td>\n",
       "      <td>12.933284</td>\n",
       "      <td>73.170000</td>\n",
       "      <td>12.988453</td>\n",
       "      <td>73.280000</td>\n",
       "      <td>0.000000</td>\n",
       "      <td>0.000000</td>\n",
       "      <td>19.000000</td>\n",
       "    </tr>\n",
       "    <tr>\n",
       "      <th>50%</th>\n",
       "      <td>30.000000</td>\n",
       "      <td>4.700000</td>\n",
       "      <td>18.551440</td>\n",
       "      <td>75.897963</td>\n",
       "      <td>18.633934</td>\n",
       "      <td>76.002574</td>\n",
       "      <td>1.000000</td>\n",
       "      <td>1.000000</td>\n",
       "      <td>26.000000</td>\n",
       "    </tr>\n",
       "    <tr>\n",
       "      <th>75%</th>\n",
       "      <td>35.000000</td>\n",
       "      <td>4.900000</td>\n",
       "      <td>22.728163</td>\n",
       "      <td>78.044095</td>\n",
       "      <td>22.785049</td>\n",
       "      <td>78.107044</td>\n",
       "      <td>2.000000</td>\n",
       "      <td>1.000000</td>\n",
       "      <td>32.000000</td>\n",
       "    </tr>\n",
       "    <tr>\n",
       "      <th>max</th>\n",
       "      <td>50.000000</td>\n",
       "      <td>6.000000</td>\n",
       "      <td>30.914057</td>\n",
       "      <td>88.433452</td>\n",
       "      <td>31.054057</td>\n",
       "      <td>88.563452</td>\n",
       "      <td>3.000000</td>\n",
       "      <td>3.000000</td>\n",
       "      <td>54.000000</td>\n",
       "    </tr>\n",
       "  </tbody>\n",
       "</table>\n",
       "</div>"
      ],
      "text/plain": [
       "       Delivery_person_Age  Delivery_person_Ratings  Restaurant_latitude  \\\n",
       "count         43730.000000             43676.000000         45584.000000   \n",
       "mean             29.566911                 4.633774            17.017948   \n",
       "std               5.815064                 0.334744             8.185674   \n",
       "min              15.000000                 1.000000           -30.905562   \n",
       "25%              25.000000                 4.500000            12.933284   \n",
       "50%              30.000000                 4.700000            18.551440   \n",
       "75%              35.000000                 4.900000            22.728163   \n",
       "max              50.000000                 6.000000            30.914057   \n",
       "\n",
       "       Restaurant_longitude  Delivery_location_latitude  \\\n",
       "count          45584.000000                45584.000000   \n",
       "mean              70.229684                   17.465480   \n",
       "std               22.885575                    7.335562   \n",
       "min              -88.366217                    0.010000   \n",
       "25%               73.170000                   12.988453   \n",
       "50%               75.897963                   18.633934   \n",
       "75%               78.044095                   22.785049   \n",
       "max               88.433452                   31.054057   \n",
       "\n",
       "       Delivery_location_longitude  Vehicle_condition  multiple_deliveries  \\\n",
       "count                 45584.000000       45584.000000         44591.000000   \n",
       "mean                     70.844161           1.023385             0.744635   \n",
       "std                      21.120578           0.839055             0.572510   \n",
       "min                       0.010000           0.000000             0.000000   \n",
       "25%                      73.280000           0.000000             0.000000   \n",
       "50%                      76.002574           1.000000             1.000000   \n",
       "75%                      78.107044           2.000000             1.000000   \n",
       "max                      88.563452           3.000000             3.000000   \n",
       "\n",
       "       Time_taken (min)  \n",
       "count      45584.000000  \n",
       "mean          26.293963  \n",
       "std            9.384298  \n",
       "min           10.000000  \n",
       "25%           19.000000  \n",
       "50%           26.000000  \n",
       "75%           32.000000  \n",
       "max           54.000000  "
      ]
     },
     "execution_count": 53,
     "metadata": {},
     "output_type": "execute_result"
    }
   ],
   "source": [
    "#printing basic statistics for numerical values\n",
    "zomato_data.describe()"
   ]
  },
  {
   "cell_type": "code",
   "execution_count": 54,
   "id": "60f00e34-2dc8-4f03-b2d5-9bbde4dbdddc",
   "metadata": {},
   "outputs": [
    {
     "name": "stdout",
     "output_type": "stream",
     "text": [
      "<class 'pandas.core.frame.DataFrame'>\n",
      "RangeIndex: 45584 entries, 0 to 45583\n",
      "Data columns (total 20 columns):\n",
      " #   Column                       Non-Null Count  Dtype  \n",
      "---  ------                       --------------  -----  \n",
      " 0   ID                           45584 non-null  object \n",
      " 1   Delivery_person_ID           45584 non-null  object \n",
      " 2   Delivery_person_Age          43730 non-null  float64\n",
      " 3   Delivery_person_Ratings      43676 non-null  float64\n",
      " 4   Restaurant_latitude          45584 non-null  float64\n",
      " 5   Restaurant_longitude         45584 non-null  float64\n",
      " 6   Delivery_location_latitude   45584 non-null  float64\n",
      " 7   Delivery_location_longitude  45584 non-null  float64\n",
      " 8   Order_Date                   45584 non-null  object \n",
      " 9   Time_Orderd                  43853 non-null  object \n",
      " 10  Time_Order_picked            45584 non-null  object \n",
      " 11  Weather_conditions           44968 non-null  object \n",
      " 12  Road_traffic_density         44983 non-null  object \n",
      " 13  Vehicle_condition            45584 non-null  int64  \n",
      " 14  Type_of_order                45584 non-null  object \n",
      " 15  Type_of_vehicle              45584 non-null  object \n",
      " 16  multiple_deliveries          44591 non-null  float64\n",
      " 17  Festival                     45356 non-null  object \n",
      " 18  City                         44384 non-null  object \n",
      " 19  Time_taken (min)             45584 non-null  int64  \n",
      "dtypes: float64(7), int64(2), object(11)\n",
      "memory usage: 7.0+ MB\n"
     ]
    }
   ],
   "source": [
    "#check column types \n",
    "zomato_data.info()"
   ]
  },
  {
   "cell_type": "code",
   "execution_count": 55,
   "id": "ff52e382-8490-4237-b761-3c59b5a320c6",
   "metadata": {},
   "outputs": [
    {
     "data": {
      "text/plain": [
       "(45584, 20)"
      ]
     },
     "execution_count": 55,
     "metadata": {},
     "output_type": "execute_result"
    }
   ],
   "source": [
    "#checking the shape of my dataset\n",
    "zomato_data.shape"
   ]
  },
  {
   "cell_type": "code",
   "execution_count": 56,
   "id": "ef61a2e6-9722-4f1e-8d45-09a0c002f54c",
   "metadata": {
    "scrolled": true
   },
   "outputs": [
    {
     "data": {
      "text/plain": [
       "ID                                0\n",
       "Delivery_person_ID                0\n",
       "Delivery_person_Age            1854\n",
       "Delivery_person_Ratings        1908\n",
       "Restaurant_latitude               0\n",
       "Restaurant_longitude              0\n",
       "Delivery_location_latitude        0\n",
       "Delivery_location_longitude       0\n",
       "Order_Date                        0\n",
       "Time_Orderd                    1731\n",
       "Time_Order_picked                 0\n",
       "Weather_conditions              616\n",
       "Road_traffic_density            601\n",
       "Vehicle_condition                 0\n",
       "Type_of_order                     0\n",
       "Type_of_vehicle                   0\n",
       "multiple_deliveries             993\n",
       "Festival                        228\n",
       "City                           1200\n",
       "Time_taken (min)                  0\n",
       "dtype: int64"
      ]
     },
     "execution_count": 56,
     "metadata": {},
     "output_type": "execute_result"
    }
   ],
   "source": [
    "#check missing values \n",
    "zomato_data.isna().sum()"
   ]
  },
  {
   "cell_type": "code",
   "execution_count": 57,
   "id": "e2fd2bc7-ab2d-436c-96a9-20da52378f77",
   "metadata": {},
   "outputs": [],
   "source": [
    "#imputing missing values with sklearn \n",
    "imputer = SimpleImputer(strategy='mean')\n",
    "zomato_data[['Delivery_person_Age', 'Delivery_person_Ratings', 'multiple_deliveries']]= imputer.fit_transform(zomato_data[['Delivery_person_Age', 'Delivery_person_Ratings', 'multiple_deliveries']])"
   ]
  },
  {
   "cell_type": "code",
   "execution_count": 58,
   "id": "4b35a5eb-d958-4d43-9bea-2a5d126197d8",
   "metadata": {},
   "outputs": [
    {
     "data": {
      "text/plain": [
       "ID                                0\n",
       "Delivery_person_ID                0\n",
       "Delivery_person_Age               0\n",
       "Delivery_person_Ratings           0\n",
       "Restaurant_latitude               0\n",
       "Restaurant_longitude              0\n",
       "Delivery_location_latitude        0\n",
       "Delivery_location_longitude       0\n",
       "Order_Date                        0\n",
       "Time_Orderd                    1731\n",
       "Time_Order_picked                 0\n",
       "Weather_conditions              616\n",
       "Road_traffic_density            601\n",
       "Vehicle_condition                 0\n",
       "Type_of_order                     0\n",
       "Type_of_vehicle                   0\n",
       "multiple_deliveries               0\n",
       "Festival                        228\n",
       "City                           1200\n",
       "Time_taken (min)                  0\n",
       "dtype: int64"
      ]
     },
     "execution_count": 58,
     "metadata": {},
     "output_type": "execute_result"
    }
   ],
   "source": [
    "#checking now missing values \n",
    "zomato_data.isna().sum()"
   ]
  },
  {
   "cell_type": "code",
   "execution_count": 61,
   "id": "55b5f88e-e137-4486-b1e1-327bf765b5d3",
   "metadata": {},
   "outputs": [],
   "source": [
    "#filling missing data with previous data\n",
    "zomato_data = zomato_data.bfill()"
   ]
  },
  {
   "cell_type": "code",
   "execution_count": 62,
   "id": "9ab1a171-4bc4-4a3d-b46d-665addc04b34",
   "metadata": {},
   "outputs": [
    {
     "data": {
      "text/plain": [
       "ID                             0\n",
       "Delivery_person_ID             0\n",
       "Delivery_person_Age            0\n",
       "Delivery_person_Ratings        0\n",
       "Restaurant_latitude            0\n",
       "Restaurant_longitude           0\n",
       "Delivery_location_latitude     0\n",
       "Delivery_location_longitude    0\n",
       "Order_Date                     0\n",
       "Time_Orderd                    0\n",
       "Time_Order_picked              0\n",
       "Weather_conditions             0\n",
       "Road_traffic_density           0\n",
       "Vehicle_condition              0\n",
       "Type_of_order                  0\n",
       "Type_of_vehicle                0\n",
       "multiple_deliveries            0\n",
       "Festival                       0\n",
       "City                           0\n",
       "Time_taken (min)               0\n",
       "dtype: int64"
      ]
     },
     "execution_count": 62,
     "metadata": {},
     "output_type": "execute_result"
    }
   ],
   "source": [
    "#counting values after imputation\n",
    "zomato_data.isna().sum()"
   ]
  },
  {
   "cell_type": "code",
   "execution_count": 13,
   "id": "d64355f3-34eb-4ea5-800b-c64464b7d5ea",
   "metadata": {},
   "outputs": [],
   "source": [
    "#save new dataset in a csv to use \n",
    "zomato_data.to_csv('zomato_cleaned_data.csv')"
   ]
  },
  {
   "cell_type": "code",
   "execution_count": 14,
   "id": "a6fb1a3d-5314-4e25-85c9-f3785a8c5d54",
   "metadata": {},
   "outputs": [],
   "source": [
    "#filter only for numerical columns to find correlations \n",
    "zomato_num_data = zomato_data.select_dtypes(include=np.number)"
   ]
  },
  {
   "cell_type": "code",
   "execution_count": 49,
   "id": "4375a145-65a5-4d20-b818-236b5f1a81e9",
   "metadata": {},
   "outputs": [],
   "source": [
    "#getting correlation matrix\n",
    "data_corr = zomato_num_data.corr()"
   ]
  },
  {
   "cell_type": "code",
   "execution_count": 52,
   "id": "880b22de-7b80-4aaf-a431-edd9c462c740",
   "metadata": {},
   "outputs": [
    {
     "data": {
      "text/plain": [
       "<Axes: >"
      ]
     },
     "execution_count": 52,
     "metadata": {},
     "output_type": "execute_result"
    },
    {
     "data": {
      "image/png": "[encoded data removed]",
      "text/plain": [
       "<Figure size 640x480 with 2 Axes>"
      ]
     },
     "metadata": {},
     "output_type": "display_data"
    }
   ],
   "source": [
    "#creating a heatmap finding any correlation\n",
    "sns.heatmap(data_corr,fmt=\"\",cmap='RdYlGn',linewidths=0.30)"
   ]
  },
  {
   "cell_type": "code",
   "execution_count": 63,
   "id": "4167aac0-2c80-4248-82d2-780641a27b0d",
   "metadata": {},
   "outputs": [
    {
     "data": {
      "text/plain": [
       "0        21:55\n",
       "1        14:55\n",
       "2        17:30\n",
       "3        09:20\n",
       "4        19:50\n",
       "         ...  \n",
       "45579    11:35\n",
       "45580    19:55\n",
       "45581    23:50\n",
       "45582    13:35\n",
       "45583    17:10\n",
       "Name: Time_Orderd, Length: 45584, dtype: object"
      ]
     },
     "execution_count": 63,
     "metadata": {},
     "output_type": "execute_result"
    }
   ],
   "source": [
    "#checking values for a few columns \n",
    "zomato_data['Time_Orderd']"
   ]
  },
  {
   "cell_type": "code",
   "execution_count": null,
   "id": "29849ff5-8951-49a1-92de-a01f212c030a",
   "metadata": {},
   "outputs": [],
   "source": []
  }
 ],
 "metadata": {
  "kernelspec": {
   "display_name": "Python 3 (ipykernel)",
   "language": "python",
   "name": "python3"
  },
  "language_info": {
   "codemirror_mode": {
    "name": "ipython",
    "version": 3
   },
   "file_extension": ".py",
   "mimetype": "text/x-python",
   "name": "python",
   "nbconvert_exporter": "python",
   "pygments_lexer": "ipython3",
   "version": "3.11.7"
  }
 },
 "nbformat": 4,
 "nbformat_minor": 5
}
